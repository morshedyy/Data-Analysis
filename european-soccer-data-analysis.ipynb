{
 "cells": [
  {
   "cell_type": "markdown",
   "id": "9b16eb97",
   "metadata": {
    "papermill": {
     "duration": 0.002991,
     "end_time": "2024-06-19T14:06:27.189126",
     "exception": false,
     "start_time": "2024-06-19T14:06:27.186135",
     "status": "completed"
    },
    "tags": []
   },
   "source": [
    "# Soccer Database Analysis\n",
    "\n",
    "This project aims to explore and analyze a soccer database using various data analysis techniques and visualizations. The database contains information about players, teams, matches, leagues, and more. We will load the data into pandas DataFrames and perform a series of analyses to gain insights into player attributes, team performance, match outcomes, and other aspects of soccer.\n",
    "\n",
    "## Table of Contents\n",
    "\n",
    "1. [Load Data and Inspect](#load-data-and-inspect)\n",
    "2. [Descriptive Statistics and Distribution Plots](#descriptive-statistics-and-distribution-plots)\n",
    "3. [Match Outcome Analysis](#match-outcome-analysis)\n",
    "\n",
    "## Load Data and Inspect\n",
    "\n",
    "First, we load each table from the SQLite database into pandas DataFrames. This step is crucial for accessing and manipulating the data easily.\n",
    "\n",
    "By inspecting the first few rows of each DataFrame, we get an overview of the data available in each table, which helps us plan our subsequent analyses.\n",
    "\n",
    "## Descriptive Statistics and Distribution Plots\n",
    "\n",
    "Next, we calculate summary statistics for key attributes in the player and team attributes tables. Summary statistics include metrics like mean, median, and standard deviation, which provide a quick overview of the data distribution.\n",
    "\n",
    "We also generate distribution plots for key attributes to visualize the distribution and frequency of specific values in the dataset. For example, we create histograms to show the distribution of overall player ratings and team build-up play speed.\n",
    "\n",
    "## Match Outcome Analysis\n",
    "\n",
    "Finally, we analyze match outcomes by examining the summary statistics for the number of goals scored by home and away teams. We calculate the average number of goals scored per match by both home and away teams and visualize the distribution of total goals per match by creating a histogram. This helps us understand the frequency of different match outcomes, such as high-scoring versus low-scoring games.\n",
    "\n",
    "By performing these analyses, we gain valuable insights into the soccer data, which can guide further analysis and decision-making.\n"
   ]
  },
  {
   "cell_type": "code",
   "execution_count": 1,
   "id": "f74a90ab",
   "metadata": {
    "_cell_guid": "b1076dfc-b9ad-4769-8c92-a6c4dae69d19",
    "_uuid": "8f2839f25d086af736a60e9eeb907d3b93b6e0e5",
    "execution": {
     "iopub.execute_input": "2024-06-19T14:06:27.195887Z",
     "iopub.status.busy": "2024-06-19T14:06:27.195449Z",
     "iopub.status.idle": "2024-06-19T14:06:28.114518Z",
     "shell.execute_reply": "2024-06-19T14:06:28.113260Z"
    },
    "papermill": {
     "duration": 0.925152,
     "end_time": "2024-06-19T14:06:28.116687",
     "exception": false,
     "start_time": "2024-06-19T14:06:27.191535",
     "status": "completed"
    },
    "tags": []
   },
   "outputs": [
    {
     "name": "stdout",
     "output_type": "stream",
     "text": [
      "/kaggle/input/soccer/database.sqlite\n"
     ]
    }
   ],
   "source": [
    "# This Python 3 environment comes with many helpful analytics libraries installed\n",
    "# It is defined by the kaggle/python Docker image: https://github.com/kaggle/docker-python\n",
    "# For example, here's several helpful packages to load\n",
    "\n",
    "import numpy as np # linear algebra\n",
    "import pandas as pd # data processing, CSV file I/O (e.g. pd.read_csv)\n",
    "\n",
    "# Input data files are available in the read-only \"../input/\" directory\n",
    "# For example, running this (by clicking run or pressing Shift+Enter) will list all files under the input directory\n",
    "\n",
    "import os\n",
    "for dirname, _, filenames in os.walk('/kaggle/input'):\n",
    "    for filename in filenames:\n",
    "        print(os.path.join(dirname, filename))\n",
    "\n",
    "# You can write up to 20GB to the current directory (/kaggle/working/) that gets preserved as output when you create a version using \"Save & Run All\" \n",
    "# You can also write temporary files to /kaggle/temp/, but they won't be saved outside of the current session"
   ]
  },
  {
   "cell_type": "code",
   "execution_count": 2,
   "id": "f683d577",
   "metadata": {
    "execution": {
     "iopub.execute_input": "2024-06-19T14:06:28.124062Z",
     "iopub.status.busy": "2024-06-19T14:06:28.123551Z",
     "iopub.status.idle": "2024-06-19T14:06:28.174171Z",
     "shell.execute_reply": "2024-06-19T14:06:28.173094Z"
    },
    "papermill": {
     "duration": 0.056832,
     "end_time": "2024-06-19T14:06:28.176480",
     "exception": false,
     "start_time": "2024-06-19T14:06:28.119648",
     "status": "completed"
    },
    "tags": []
   },
   "outputs": [
    {
     "data": {
      "text/html": [
       "<div>\n",
       "<style scoped>\n",
       "    .dataframe tbody tr th:only-of-type {\n",
       "        vertical-align: middle;\n",
       "    }\n",
       "\n",
       "    .dataframe tbody tr th {\n",
       "        vertical-align: top;\n",
       "    }\n",
       "\n",
       "    .dataframe thead th {\n",
       "        text-align: right;\n",
       "    }\n",
       "</style>\n",
       "<table border=\"1\" class=\"dataframe\">\n",
       "  <thead>\n",
       "    <tr style=\"text-align: right;\">\n",
       "      <th></th>\n",
       "      <th>type</th>\n",
       "      <th>name</th>\n",
       "      <th>tbl_name</th>\n",
       "      <th>rootpage</th>\n",
       "      <th>sql</th>\n",
       "    </tr>\n",
       "  </thead>\n",
       "  <tbody>\n",
       "    <tr>\n",
       "      <th>0</th>\n",
       "      <td>table</td>\n",
       "      <td>sqlite_sequence</td>\n",
       "      <td>sqlite_sequence</td>\n",
       "      <td>4</td>\n",
       "      <td>CREATE TABLE sqlite_sequence(name,seq)</td>\n",
       "    </tr>\n",
       "    <tr>\n",
       "      <th>1</th>\n",
       "      <td>table</td>\n",
       "      <td>Player_Attributes</td>\n",
       "      <td>Player_Attributes</td>\n",
       "      <td>11</td>\n",
       "      <td>CREATE TABLE \"Player_Attributes\" (\\n\\t`id`\\tIN...</td>\n",
       "    </tr>\n",
       "    <tr>\n",
       "      <th>2</th>\n",
       "      <td>table</td>\n",
       "      <td>Player</td>\n",
       "      <td>Player</td>\n",
       "      <td>14</td>\n",
       "      <td>CREATE TABLE `Player` (\\n\\t`id`\\tINTEGER PRIMA...</td>\n",
       "    </tr>\n",
       "    <tr>\n",
       "      <th>3</th>\n",
       "      <td>table</td>\n",
       "      <td>Match</td>\n",
       "      <td>Match</td>\n",
       "      <td>18</td>\n",
       "      <td>CREATE TABLE `Match` (\\n\\t`id`\\tINTEGER PRIMAR...</td>\n",
       "    </tr>\n",
       "    <tr>\n",
       "      <th>4</th>\n",
       "      <td>table</td>\n",
       "      <td>League</td>\n",
       "      <td>League</td>\n",
       "      <td>24</td>\n",
       "      <td>CREATE TABLE `League` (\\n\\t`id`\\tINTEGER PRIMA...</td>\n",
       "    </tr>\n",
       "    <tr>\n",
       "      <th>5</th>\n",
       "      <td>table</td>\n",
       "      <td>Country</td>\n",
       "      <td>Country</td>\n",
       "      <td>26</td>\n",
       "      <td>CREATE TABLE `Country` (\\n\\t`id`\\tINTEGER PRIM...</td>\n",
       "    </tr>\n",
       "    <tr>\n",
       "      <th>6</th>\n",
       "      <td>table</td>\n",
       "      <td>Team</td>\n",
       "      <td>Team</td>\n",
       "      <td>29</td>\n",
       "      <td>CREATE TABLE \"Team\" (\\n\\t`id`\\tINTEGER PRIMARY...</td>\n",
       "    </tr>\n",
       "    <tr>\n",
       "      <th>7</th>\n",
       "      <td>table</td>\n",
       "      <td>Team_Attributes</td>\n",
       "      <td>Team_Attributes</td>\n",
       "      <td>2</td>\n",
       "      <td>CREATE TABLE `Team_Attributes` (\\n\\t`id`\\tINTE...</td>\n",
       "    </tr>\n",
       "  </tbody>\n",
       "</table>\n",
       "</div>"
      ],
      "text/plain": [
       "    type               name           tbl_name  rootpage  \\\n",
       "0  table    sqlite_sequence    sqlite_sequence         4   \n",
       "1  table  Player_Attributes  Player_Attributes        11   \n",
       "2  table             Player             Player        14   \n",
       "3  table              Match              Match        18   \n",
       "4  table             League             League        24   \n",
       "5  table            Country            Country        26   \n",
       "6  table               Team               Team        29   \n",
       "7  table    Team_Attributes    Team_Attributes         2   \n",
       "\n",
       "                                                 sql  \n",
       "0             CREATE TABLE sqlite_sequence(name,seq)  \n",
       "1  CREATE TABLE \"Player_Attributes\" (\\n\\t`id`\\tIN...  \n",
       "2  CREATE TABLE `Player` (\\n\\t`id`\\tINTEGER PRIMA...  \n",
       "3  CREATE TABLE `Match` (\\n\\t`id`\\tINTEGER PRIMAR...  \n",
       "4  CREATE TABLE `League` (\\n\\t`id`\\tINTEGER PRIMA...  \n",
       "5  CREATE TABLE `Country` (\\n\\t`id`\\tINTEGER PRIM...  \n",
       "6  CREATE TABLE \"Team\" (\\n\\t`id`\\tINTEGER PRIMARY...  \n",
       "7  CREATE TABLE `Team_Attributes` (\\n\\t`id`\\tINTE...  "
      ]
     },
     "execution_count": 2,
     "metadata": {},
     "output_type": "execute_result"
    }
   ],
   "source": [
    "#Improts \n",
    "\n",
    "import numpy as np # linear algebra\n",
    "import pandas as pd # data processing, CSV file I/O (e.g. pd.read_csv)\n",
    "import sqlite3\n",
    "import matplotlib.pyplot as plt\n",
    "\n",
    "# Input data files are available in the \"../input/\" directory.\n",
    "# For example, running this (by clicking run or pressing Shift+Enter) will list the files in the input directory\n",
    "\n",
    "\n",
    "conn = sqlite3.connect(\"/kaggle/input/soccer/database.sqlite\")\n",
    "\n",
    "tables = pd.read_sql(\"\"\"SELECT *\n",
    "                        FROM sqlite_master\n",
    "                        WHERE type='table';\"\"\", conn)\n",
    "tables"
   ]
  },
  {
   "cell_type": "markdown",
   "id": "53333729",
   "metadata": {
    "papermill": {
     "duration": 0.002518,
     "end_time": "2024-06-19T14:06:28.181986",
     "exception": false,
     "start_time": "2024-06-19T14:06:28.179468",
     "status": "completed"
    },
    "tags": []
   },
   "source": [
    "# Soccer Database Exploration\n",
    "\n",
    "## Load Each Table into a Pandas DataFrame\n",
    "\n",
    "First, we load each table from the SQLite database into a pandas DataFrame.\n"
   ]
  },
  {
   "cell_type": "code",
   "execution_count": 3,
   "id": "7b0aa7cc",
   "metadata": {
    "execution": {
     "iopub.execute_input": "2024-06-19T14:06:28.189048Z",
     "iopub.status.busy": "2024-06-19T14:06:28.188697Z",
     "iopub.status.idle": "2024-06-19T14:06:46.542925Z",
     "shell.execute_reply": "2024-06-19T14:06:46.541889Z"
    },
    "papermill": {
     "duration": 18.360466,
     "end_time": "2024-06-19T14:06:46.545263",
     "exception": false,
     "start_time": "2024-06-19T14:06:28.184797",
     "status": "completed"
    },
    "tags": []
   },
   "outputs": [
    {
     "name": "stdout",
     "output_type": "stream",
     "text": [
      "   id  player_fifa_api_id  player_api_id                 date  overall_rating  \\\n",
      "0   1              218353         505942  2016-02-18 00:00:00            67.0   \n",
      "1   2              218353         505942  2015-11-19 00:00:00            67.0   \n",
      "2   3              218353         505942  2015-09-21 00:00:00            62.0   \n",
      "3   4              218353         505942  2015-03-20 00:00:00            61.0   \n",
      "4   5              218353         505942  2007-02-22 00:00:00            61.0   \n",
      "\n",
      "   potential preferred_foot attacking_work_rate defensive_work_rate  crossing  \\\n",
      "0       71.0          right              medium              medium      49.0   \n",
      "1       71.0          right              medium              medium      49.0   \n",
      "2       66.0          right              medium              medium      49.0   \n",
      "3       65.0          right              medium              medium      48.0   \n",
      "4       65.0          right              medium              medium      48.0   \n",
      "\n",
      "   ...  vision  penalties  marking  standing_tackle  sliding_tackle  \\\n",
      "0  ...    54.0       48.0     65.0             69.0            69.0   \n",
      "1  ...    54.0       48.0     65.0             69.0            69.0   \n",
      "2  ...    54.0       48.0     65.0             66.0            69.0   \n",
      "3  ...    53.0       47.0     62.0             63.0            66.0   \n",
      "4  ...    53.0       47.0     62.0             63.0            66.0   \n",
      "\n",
      "   gk_diving  gk_handling  gk_kicking  gk_positioning  gk_reflexes  \n",
      "0        6.0         11.0        10.0             8.0          8.0  \n",
      "1        6.0         11.0        10.0             8.0          8.0  \n",
      "2        6.0         11.0        10.0             8.0          8.0  \n",
      "3        5.0         10.0         9.0             7.0          7.0  \n",
      "4        5.0         10.0         9.0             7.0          7.0  \n",
      "\n",
      "[5 rows x 42 columns]\n",
      "   id  player_api_id         player_name  player_fifa_api_id  \\\n",
      "0   1         505942  Aaron Appindangoye              218353   \n",
      "1   2         155782     Aaron Cresswell              189615   \n",
      "2   3         162549         Aaron Doran              186170   \n",
      "3   4          30572       Aaron Galindo              140161   \n",
      "4   5          23780        Aaron Hughes               17725   \n",
      "\n",
      "              birthday  height  weight  \n",
      "0  1992-02-29 00:00:00  182.88     187  \n",
      "1  1989-12-15 00:00:00  170.18     146  \n",
      "2  1991-05-13 00:00:00  170.18     163  \n",
      "3  1982-05-08 00:00:00  182.88     198  \n",
      "4  1979-11-08 00:00:00  182.88     154  \n",
      "   id  country_id  league_id     season  stage                 date  \\\n",
      "0   1           1          1  2008/2009      1  2008-08-17 00:00:00   \n",
      "1   2           1          1  2008/2009      1  2008-08-16 00:00:00   \n",
      "2   3           1          1  2008/2009      1  2008-08-16 00:00:00   \n",
      "3   4           1          1  2008/2009      1  2008-08-17 00:00:00   \n",
      "4   5           1          1  2008/2009      1  2008-08-16 00:00:00   \n",
      "\n",
      "   match_api_id  home_team_api_id  away_team_api_id  home_team_goal  ...  \\\n",
      "0        492473              9987              9993               1  ...   \n",
      "1        492474             10000              9994               0  ...   \n",
      "2        492475              9984              8635               0  ...   \n",
      "3        492476              9991              9998               5  ...   \n",
      "4        492477              7947              9985               1  ...   \n",
      "\n",
      "    SJA   VCH   VCD   VCA   GBH   GBD   GBA   BSH   BSD   BSA  \n",
      "0  4.00  1.65  3.40  4.50  1.78  3.25  4.00  1.73  3.40  4.20  \n",
      "1  3.80  2.00  3.25  3.25  1.85  3.25  3.75  1.91  3.25  3.60  \n",
      "2  2.50  2.35  3.25  2.65  2.50  3.20  2.50  2.30  3.20  2.75  \n",
      "3  7.50  1.45  3.75  6.50  1.50  3.75  5.50  1.44  3.75  6.50  \n",
      "4  1.73  4.50  3.40  1.65  4.50  3.50  1.65  4.75  3.30  1.67  \n",
      "\n",
      "[5 rows x 115 columns]\n",
      "      id  country_id                    name\n",
      "0      1           1  Belgium Jupiler League\n",
      "1   1729        1729  England Premier League\n",
      "2   4769        4769          France Ligue 1\n",
      "3   7809        7809   Germany 1. Bundesliga\n",
      "4  10257       10257           Italy Serie A\n",
      "      id     name\n",
      "0      1  Belgium\n",
      "1   1729  England\n",
      "2   4769   France\n",
      "3   7809  Germany\n",
      "4  10257    Italy\n",
      "   id  team_api_id  team_fifa_api_id     team_long_name team_short_name\n",
      "0   1         9987             673.0           KRC Genk             GEN\n",
      "1   2         9993             675.0       Beerschot AC             BAC\n",
      "2   3        10000           15005.0   SV Zulte-Waregem             ZUL\n",
      "3   4         9994            2007.0   Sporting Lokeren             LOK\n",
      "4   5         9984            1750.0  KSV Cercle Brugge             CEB\n",
      "   id  team_fifa_api_id  team_api_id                 date  buildUpPlaySpeed  \\\n",
      "0   1               434         9930  2010-02-22 00:00:00                60   \n",
      "1   2               434         9930  2014-09-19 00:00:00                52   \n",
      "2   3               434         9930  2015-09-10 00:00:00                47   \n",
      "3   4                77         8485  2010-02-22 00:00:00                70   \n",
      "4   5                77         8485  2011-02-22 00:00:00                47   \n",
      "\n",
      "  buildUpPlaySpeedClass  buildUpPlayDribbling buildUpPlayDribblingClass  \\\n",
      "0              Balanced                   NaN                    Little   \n",
      "1              Balanced                  48.0                    Normal   \n",
      "2              Balanced                  41.0                    Normal   \n",
      "3                  Fast                   NaN                    Little   \n",
      "4              Balanced                   NaN                    Little   \n",
      "\n",
      "   buildUpPlayPassing buildUpPlayPassingClass  ... chanceCreationShooting  \\\n",
      "0                  50                   Mixed  ...                     55   \n",
      "1                  56                   Mixed  ...                     64   \n",
      "2                  54                   Mixed  ...                     64   \n",
      "3                  70                    Long  ...                     70   \n",
      "4                  52                   Mixed  ...                     52   \n",
      "\n",
      "   chanceCreationShootingClass chanceCreationPositioningClass  \\\n",
      "0                       Normal                      Organised   \n",
      "1                       Normal                      Organised   \n",
      "2                       Normal                      Organised   \n",
      "3                         Lots                      Organised   \n",
      "4                       Normal                      Organised   \n",
      "\n",
      "   defencePressure defencePressureClass  defenceAggression  \\\n",
      "0               50               Medium                 55   \n",
      "1               47               Medium                 44   \n",
      "2               47               Medium                 44   \n",
      "3               60               Medium                 70   \n",
      "4               47               Medium                 47   \n",
      "\n",
      "  defenceAggressionClass defenceTeamWidth  defenceTeamWidthClass  \\\n",
      "0                  Press               45                 Normal   \n",
      "1                  Press               54                 Normal   \n",
      "2                  Press               54                 Normal   \n",
      "3                 Double               70                   Wide   \n",
      "4                  Press               52                 Normal   \n",
      "\n",
      "  defenceDefenderLineClass  \n",
      "0                    Cover  \n",
      "1                    Cover  \n",
      "2                    Cover  \n",
      "3                    Cover  \n",
      "4                    Cover  \n",
      "\n",
      "[5 rows x 25 columns]\n"
     ]
    }
   ],
   "source": [
    "# Load each table into a pandas DataFrame\n",
    "player_attributes = pd.read_sql(\"SELECT * FROM Player_Attributes\", conn)\n",
    "player = pd.read_sql(\"SELECT * FROM Player\", conn)\n",
    "match = pd.read_sql(\"SELECT * FROM Match\", conn)\n",
    "league = pd.read_sql(\"SELECT * FROM League\", conn)\n",
    "country = pd.read_sql(\"SELECT * FROM Country\", conn)\n",
    "team = pd.read_sql(\"SELECT * FROM Team\", conn)\n",
    "team_attributes = pd.read_sql(\"SELECT * FROM Team_Attributes\", conn)\n",
    "\n",
    "# Inspect the first few rows of each DataFrame\n",
    "print(player_attributes.head())\n",
    "print(player.head())\n",
    "print(match.head())\n",
    "print(league.head())\n",
    "print(country.head())\n",
    "print(team.head())\n",
    "print(team_attributes.head())\n"
   ]
  },
  {
   "cell_type": "markdown",
   "id": "91f6b26e",
   "metadata": {
    "papermill": {
     "duration": 0.002617,
     "end_time": "2024-06-19T14:06:46.550960",
     "exception": false,
     "start_time": "2024-06-19T14:06:46.548343",
     "status": "completed"
    },
    "tags": []
   },
   "source": [
    "# Descriptive Statistics and Distribution Plots\n",
    "\n",
    "## Summary Statistics\n",
    "\n",
    "We start by calculating summary statistics for key attributes in the `player_attributes` and `team_attributes` DataFrames. Summary statistics include metrics like mean, median, standard deviation, etc., which provide a quick overview of the data distribution.\n"
   ]
  },
  {
   "cell_type": "code",
   "execution_count": 4,
   "id": "4e4d14c3",
   "metadata": {
    "execution": {
     "iopub.execute_input": "2024-06-19T14:06:46.558229Z",
     "iopub.status.busy": "2024-06-19T14:06:46.557918Z",
     "iopub.status.idle": "2024-06-19T14:06:47.348882Z",
     "shell.execute_reply": "2024-06-19T14:06:47.348019Z"
    },
    "papermill": {
     "duration": 0.796927,
     "end_time": "2024-06-19T14:06:47.350801",
     "exception": false,
     "start_time": "2024-06-19T14:06:46.553874",
     "status": "completed"
    },
    "tags": []
   },
   "outputs": [
    {
     "name": "stdout",
     "output_type": "stream",
     "text": [
      "                 id  player_fifa_api_id  player_api_id  overall_rating  \\\n",
      "count  183978.00000       183978.000000  183978.000000   183142.000000   \n",
      "mean    91989.50000       165671.524291  135900.617324       68.600015   \n",
      "std     53110.01825        53851.094769  136927.840510        7.041139   \n",
      "min         1.00000            2.000000    2625.000000       33.000000   \n",
      "25%     45995.25000       155798.000000   34763.000000       64.000000   \n",
      "50%     91989.50000       183488.000000   77741.000000       69.000000   \n",
      "75%    137983.75000       199848.000000  191080.000000       73.000000   \n",
      "max    183978.00000       234141.000000  750584.000000       94.000000   \n",
      "\n",
      "           potential       crossing      finishing  heading_accuracy  \\\n",
      "count  183142.000000  183142.000000  183142.000000     183142.000000   \n",
      "mean       73.460353      55.086883      49.921078         57.266023   \n",
      "std         6.592271      17.242135      19.038705         16.488905   \n",
      "min        39.000000       1.000000       1.000000          1.000000   \n",
      "25%        69.000000      45.000000      34.000000         49.000000   \n",
      "50%        74.000000      59.000000      53.000000         60.000000   \n",
      "75%        78.000000      68.000000      65.000000         68.000000   \n",
      "max        97.000000      95.000000      97.000000         98.000000   \n",
      "\n",
      "       short_passing        volleys  ...         vision      penalties  \\\n",
      "count  183142.000000  181265.000000  ...  181265.000000  183142.000000   \n",
      "mean       62.429672      49.468436  ...      57.873550      55.003986   \n",
      "std        14.194068      18.256618  ...      15.144086      15.546519   \n",
      "min         3.000000       1.000000  ...       1.000000       2.000000   \n",
      "25%        57.000000      35.000000  ...      49.000000      45.000000   \n",
      "50%        65.000000      52.000000  ...      60.000000      57.000000   \n",
      "75%        72.000000      64.000000  ...      69.000000      67.000000   \n",
      "max        97.000000      93.000000  ...      97.000000      96.000000   \n",
      "\n",
      "             marking  standing_tackle  sliding_tackle      gk_diving  \\\n",
      "count  183142.000000    183142.000000   181265.000000  183142.000000   \n",
      "mean       46.772242        50.351257       48.001462      14.704393   \n",
      "std        21.227667        21.483706       21.598778      16.865467   \n",
      "min         1.000000         1.000000        2.000000       1.000000   \n",
      "25%        25.000000        29.000000       25.000000       7.000000   \n",
      "50%        50.000000        56.000000       53.000000      10.000000   \n",
      "75%        66.000000        69.000000       67.000000      13.000000   \n",
      "max        96.000000        95.000000       95.000000      94.000000   \n",
      "\n",
      "         gk_handling     gk_kicking  gk_positioning    gk_reflexes  \n",
      "count  183142.000000  183142.000000   183142.000000  183142.000000  \n",
      "mean       16.063612      20.998362       16.132154      16.441439  \n",
      "std        15.867382      21.452980       16.099175      17.198155  \n",
      "min         1.000000       1.000000        1.000000       1.000000  \n",
      "25%         8.000000       8.000000        8.000000       8.000000  \n",
      "50%        11.000000      12.000000       11.000000      11.000000  \n",
      "75%        15.000000      15.000000       15.000000      15.000000  \n",
      "max        93.000000      97.000000       96.000000      96.000000  \n",
      "\n",
      "[8 rows x 38 columns]\n",
      "                id  team_fifa_api_id    team_api_id  buildUpPlaySpeed  \\\n",
      "count  1458.000000       1458.000000    1458.000000       1458.000000   \n",
      "mean    729.500000      17706.982167    9995.727023         52.462277   \n",
      "std     421.032659      39179.857739   13264.869900         11.545869   \n",
      "min       1.000000          1.000000    1601.000000         20.000000   \n",
      "25%     365.250000        110.000000    8457.750000         45.000000   \n",
      "50%     729.500000        485.000000    8674.000000         52.000000   \n",
      "75%    1093.750000       1900.000000    9904.000000         62.000000   \n",
      "max    1458.000000     112513.000000  274581.000000         80.000000   \n",
      "\n",
      "       buildUpPlayDribbling  buildUpPlayPassing  chanceCreationPassing  \\\n",
      "count            489.000000         1458.000000            1458.000000   \n",
      "mean              48.607362           48.490398              52.165295   \n",
      "std                9.678290           10.896101              10.360793   \n",
      "min               24.000000           20.000000              21.000000   \n",
      "25%               42.000000           40.000000              46.000000   \n",
      "50%               49.000000           50.000000              52.000000   \n",
      "75%               55.000000           55.000000              59.000000   \n",
      "max               77.000000           80.000000              80.000000   \n",
      "\n",
      "       chanceCreationCrossing  chanceCreationShooting  defencePressure  \\\n",
      "count             1458.000000             1458.000000      1458.000000   \n",
      "mean                53.731824               53.969136        46.017147   \n",
      "std                 11.086796               10.327566        10.227225   \n",
      "min                 20.000000               22.000000        23.000000   \n",
      "25%                 47.000000               48.000000        39.000000   \n",
      "50%                 53.000000               53.000000        45.000000   \n",
      "75%                 62.000000               61.000000        51.000000   \n",
      "max                 80.000000               80.000000        72.000000   \n",
      "\n",
      "       defenceAggression  defenceTeamWidth  \n",
      "count        1458.000000       1458.000000  \n",
      "mean           49.251029         52.185871  \n",
      "std             9.738028          9.574712  \n",
      "min            24.000000         29.000000  \n",
      "25%            44.000000         47.000000  \n",
      "50%            48.000000         52.000000  \n",
      "75%            55.000000         58.000000  \n",
      "max            72.000000         73.000000  \n"
     ]
    },
    {
     "data": {
      "image/png": "[encoded data removed]",
      "text/plain": [
       "<Figure size 640x480 with 1 Axes>"
      ]
     },
     "metadata": {},
     "output_type": "display_data"
    },
    {
     "data": {
      "image/png": "[encoded data removed]",
      "text/plain": [
       "<Figure size 640x480 with 1 Axes>"
      ]
     },
     "metadata": {},
     "output_type": "display_data"
    }
   ],
   "source": [
    "# Summary statistics\n",
    "print(player_attributes.describe())\n",
    "print(team_attributes.describe())\n",
    "\n",
    "# Distribution plots\n",
    "player_attributes['overall_rating'].hist(bins=20)\n",
    "plt.title('Distribution of Overall Player Ratings')\n",
    "plt.xlabel('Overall Rating')\n",
    "plt.ylabel('Frequency')\n",
    "plt.show()\n",
    "\n",
    "team_attributes['buildUpPlaySpeed'].hist(bins=20)\n",
    "plt.title('Distribution of Team Build Up Play Speed')\n",
    "plt.xlabel('Build Up Play Speed')\n",
    "plt.ylabel('Frequency')\n",
    "plt.show()\n"
   ]
  },
  {
   "cell_type": "markdown",
   "id": "f26ff38f",
   "metadata": {
    "papermill": {
     "duration": 0.003577,
     "end_time": "2024-06-19T14:06:47.358249",
     "exception": false,
     "start_time": "2024-06-19T14:06:47.354672",
     "status": "completed"
    },
    "tags": []
   },
   "source": [
    "# Match Outcome Analysis\n",
    "\n",
    "## Basic Match Outcome Analysis\n",
    "\n",
    "First, we perform a basic analysis of match outcomes by examining the summary statistics for the number of goals scored by home and away teams.\n"
   ]
  },
  {
   "cell_type": "code",
   "execution_count": 5,
   "id": "bf78070c",
   "metadata": {
    "execution": {
     "iopub.execute_input": "2024-06-19T14:06:47.367206Z",
     "iopub.status.busy": "2024-06-19T14:06:47.366828Z",
     "iopub.status.idle": "2024-06-19T14:06:47.602264Z",
     "shell.execute_reply": "2024-06-19T14:06:47.601160Z"
    },
    "papermill": {
     "duration": 0.242749,
     "end_time": "2024-06-19T14:06:47.604656",
     "exception": false,
     "start_time": "2024-06-19T14:06:47.361907",
     "status": "completed"
    },
    "tags": []
   },
   "outputs": [
    {
     "name": "stdout",
     "output_type": "stream",
     "text": [
      "       home_team_goal  away_team_goal\n",
      "count    25979.000000    25979.000000\n",
      "mean         1.544594        1.160938\n",
      "std          1.297158        1.142110\n",
      "min          0.000000        0.000000\n",
      "25%          1.000000        0.000000\n",
      "50%          1.000000        1.000000\n",
      "75%          2.000000        2.000000\n",
      "max         10.000000        9.000000\n",
      "Average goals per match: 2.7055313907386735\n"
     ]
    },
    {
     "data": {
      "image/png": "[encoded data removed]",
      "text/plain": [
       "<Figure size 640x480 with 1 Axes>"
      ]
     },
     "metadata": {},
     "output_type": "display_data"
    }
   ],
   "source": [
    "# Basic match outcome analysis\n",
    "print(match[['home_team_goal', 'away_team_goal']].describe())\n",
    "\n",
    "# Average goals per match\n",
    "average_goals = match[['home_team_goal', 'away_team_goal']].mean().sum()\n",
    "print(f'Average goals per match: {average_goals}')\n",
    "\n",
    "# Distribution of match outcomes\n",
    "match['total_goals'] = match['home_team_goal'] + match['away_team_goal']\n",
    "match['total_goals'].hist(bins=20)\n",
    "plt.title('Distribution of Total Goals per Match')\n",
    "plt.xlabel('Total Goals')\n",
    "plt.ylabel('Frequency')\n",
    "plt.show()\n"
   ]
  }
 ],
 "metadata": {
  "kaggle": {
   "accelerator": "none",
   "dataSources": [
    {
     "datasetId": 63,
     "sourceId": 589,
     "sourceType": "datasetVersion"
    }
   ],
   "dockerImageVersionId": 30732,
   "isGpuEnabled": false,
   "isInternetEnabled": false,
   "language": "python",
   "sourceType": "notebook"
  },
  "kernelspec": {
   "display_name": "Python 3",
   "language": "python",
   "name": "python3"
  },
  "language_info": {
   "codemirror_mode": {
    "name": "ipython",
    "version": 3
   },
   "file_extension": ".py",
   "mimetype": "text/x-python",
   "name": "python",
   "nbconvert_exporter": "python",
   "pygments_lexer": "ipython3",
   "version": "3.10.13"
  },
  "papermill": {
   "default_parameters": {},
   "duration": 23.472293,
   "end_time": "2024-06-19T14:06:48.130042",
   "environment_variables": {},
   "exception": null,
   "input_path": "__notebook__.ipynb",
   "output_path": "__notebook__.ipynb",
   "parameters": {},
   "start_time": "2024-06-19T14:06:24.657749",
   "version": "2.5.0"
  }
 },
 "nbformat": 4,
 "nbformat_minor": 5
}
